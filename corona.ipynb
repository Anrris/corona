{
 "cells": [
  {
   "cell_type": "code",
   "execution_count": 529,
   "metadata": {},
   "outputs": [
    {
     "data": {
      "text/plain": [
       "'global.html'"
      ]
     },
     "execution_count": 529,
     "metadata": {},
     "output_type": "execute_result"
    }
   ],
   "source": [
    "import importlib\n",
    "import corona_plots\n",
    "importlib.reload(corona_plots)\n",
    "import daily\n",
    "import importlib\n",
    "importlib.reload(daily)\n",
    "\n",
    "import pandas as pd\n",
    "import os\n",
    "from plotly.subplots import make_subplots\n",
    "import numpy as np\n",
    "import plotly.graph_objects as go\n",
    "import plotly\n",
    "hex_colors = [\n",
    "    '#1f77b4','#ff7f0e','#2ca02c','#d62728','#9467bd','#8c564b','#e377c2',\n",
    "    '#7f7f7f','#bcbd22','#17becf','#7f0000','#000000','#04ab08','#0000fb',\n",
    "]\n",
    "\n",
    "#fig = corona_plots.CoronaPlots.plot_global_cases_mixed(auto_open=True)\n",
    "#fig = corona_plots.CoronaPlots.plot_usa_pos_neg_tracking(auto_open=True)\n",
    "\n",
    "df, last = daily.DailyData.ranged_country(start=pd.Timestamp(2020, 1, 22), end=pd.Timestamp(2020, 3, 29), indicator='Confirmed')\n",
    "df2, _ = daily.DailyData.ranged_country(start=pd.Timestamp(2020, 1, 22), end=pd.Timestamp(2020, 3, 29), indicator='Deaths')\n",
    "fig = go.Figure()\n",
    "dfnews = daily.DailyData.news_dataframe()\n",
    "fig.add_trace(\n",
    "    go.Scatter(\n",
    "        x=dfnews.date, y=[-3000] * len(dfnews.date), mode='markers', name=\"News\",\n",
    "        legendgroup=\"News\", line=dict(color=color), marker=dict(color='#d62728', size=10), marker_symbol=['diamond-dot']*len(dfnews.date),\n",
    "        text=[f'{body}' for body in dfnews.body]\n",
    "    )\n",
    ")\n",
    "for idx, (total, col) in enumerate(last):\n",
    "    if col == 'Recovered':\n",
    "        continue\n",
    "    if total < 100:\n",
    "        continue\n",
    "    color = hex_colors[idx % len(hex_colors)]    \n",
    "    fig.add_trace(\n",
    "        go.Scatter(\n",
    "            x=df.index, y=df[col], mode='lines+markers', name=f'{col}: {int(total)}',\n",
    "            legendgroup=col, line=dict(color=color), marker=dict(color=color),\n",
    "        )\n",
    "    )\n",
    "\n",
    "plotly.offline.plot(fig, filename = 'global.html', auto_open=True)"
   ]
  },
  {
   "cell_type": "code",
   "execution_count": 519,
   "metadata": {},
   "outputs": [
    {
     "data": {
      "text/plain": [
       "'us_death_.html'"
      ]
     },
     "execution_count": 519,
     "metadata": {},
     "output_type": "execute_result"
    }
   ],
   "source": [
    "df, last = daily.DailyData.ranged_region(start=pd.Timestamp(2020, 3, 5), end=pd.Timestamp(2020, 3, 29), country='US', indicator='Confirmed')\n",
    "df2, _ = daily.DailyData.ranged_region(start=pd.Timestamp(2020, 3, 5), end=pd.Timestamp(2020, 3, 29), country='US', indicator='Deaths')\n",
    "fig = go.Figure()\n",
    "for idx, (total, col) in enumerate(last):\n",
    "    if col == 'Recovered':\n",
    "        continue\n",
    "    color = hex_colors[idx % len(hex_colors)]    \n",
    "    fig.add_trace(\n",
    "        go.Scatter(\n",
    "            x=df[col], y=df2[col], mode='lines+markers', name=f'{col}: {int(total)}',\n",
    "            legendgroup=col, line=dict(color=color), marker=dict(color=color),\n",
    "        )\n",
    "    )\n",
    "fig.update_layout(xaxis_type=\"log\", yaxis_type=\"log\")\n",
    "fig\n",
    "plotly.offline.plot(fig, filename = 'us_death.html', auto_open=True)"
   ]
  },
  {
   "cell_type": "code",
   "execution_count": 521,
   "metadata": {},
   "outputs": [
    {
     "data": {
      "text/plain": [
       "'corona_us.html'"
      ]
     },
     "execution_count": 521,
     "metadata": {},
     "output_type": "execute_result"
    }
   ],
   "source": [
    "df, last = daily.DailyData.ranged_region(start=pd.Timestamp(2020, 1, 22), end=pd.Timestamp(2020, 3, 29), country='US', indicator='Confirmed')\n",
    "df2, _ = daily.DailyData.ranged_region(start=pd.Timestamp(2020, 1, 22), end=pd.Timestamp(2020, 3, 29), country='US', indicator='Deaths')\n",
    "fig = make_subplots(rows=2, cols=1, vertical_spacing=0.05)\n",
    "for idx, (total, col) in enumerate(last):\n",
    "    if col == 'Recovered':\n",
    "        continue\n",
    "    color = hex_colors[idx % len(hex_colors)]\n",
    "    fig.add_trace(\n",
    "        go.Scatter(\n",
    "            x=df.index, y=df[col], mode='lines+markers', name=f'{col}: {int(total)}',\n",
    "            legendgroup=col, line=dict(color=color), marker=dict(color=color),\n",
    "        ),\n",
    "        row=1, col=1\n",
    "    )\n",
    "\n",
    "    fig.add_trace(\n",
    "        go.Scatter(\n",
    "            x=df2.index, y=df2[col], mode='lines+markers', name=f'{col}: {int(total)}',\n",
    "            legendgroup=col, line=dict(color=color), marker=dict(color=color),\n",
    "        ),\n",
    "        row=2, col=1\n",
    "    )\n",
    "\n",
    "\n",
    "fig.update_layout(title=\"Corona virus tracking: USA confirmed v.s deaths accross states\")\n",
    "fig.update_yaxes(title_text=\"Accumulated positive count\", row=1, col=1)\n",
    "fig.update_yaxes(title_text=\"Accumulated death count\", row=2, col=1)\n",
    "plotly.offline.plot(fig, filename = 'corona_us.html', auto_open=True)"
   ]
  },
  {
   "cell_type": "code",
   "execution_count": 522,
   "metadata": {},
   "outputs": [
    {
     "data": {
      "text/plain": [
       "'corona_china.html'"
      ]
     },
     "execution_count": 522,
     "metadata": {},
     "output_type": "execute_result"
    }
   ],
   "source": [
    "df, last = daily.DailyData.ranged_region(start=pd.Timestamp(2020, 1, 22), end=pd.Timestamp(2020, 3, 29), country='China', indicator='Confirmed')\n",
    "df2, _ = daily.DailyData.ranged_region(start=pd.Timestamp(2020, 1, 22), end=pd.Timestamp(2020, 3, 29), country='China', indicator='Deaths')\n",
    "fig = make_subplots(rows=2, cols=1, vertical_spacing=0.05)\n",
    "for idx, (total, col) in enumerate(last):\n",
    "    if col == 'Recovered':\n",
    "        continue\n",
    "    color = hex_colors[idx % len(hex_colors)]\n",
    "    fig.add_trace(\n",
    "        go.Scatter(\n",
    "            x=df.index, y=df[col], mode='lines+markers', name=f'{col}: {int(total)}',\n",
    "            legendgroup=col, line=dict(color=color), marker=dict(color=color),\n",
    "        ),\n",
    "        row=1, col=1\n",
    "    )\n",
    "\n",
    "    fig.add_trace(\n",
    "        go.Scatter(\n",
    "            x=df2.index, y=df2[col], mode='lines+markers', name=f'{col}: {int(total)}',\n",
    "            legendgroup=col, line=dict(color=color), marker=dict(color=color),\n",
    "        ),\n",
    "        row=2, col=1\n",
    "    )\n",
    "\n",
    "\n",
    "fig.update_layout(title=\"Corona virus tracking: China confirmed v.s deaths accross states\")\n",
    "fig.update_yaxes(title_text=\"Accumulated positive count\", row=1, col=1)\n",
    "fig.update_yaxes(title_text=\"Accumulated death count\", row=2, col=1)\n",
    "plotly.offline.plot(fig, filename = 'corona_china.html', auto_open=True)"
   ]
  },
  {
   "cell_type": "code",
   "execution_count": null,
   "metadata": {},
   "outputs": [],
   "source": []
  }
 ],
 "metadata": {
  "kernelspec": {
   "display_name": "env-conda",
   "language": "python",
   "name": "env-conda"
  },
  "language_info": {
   "codemirror_mode": {
    "name": "ipython",
    "version": 3
   },
   "file_extension": ".py",
   "mimetype": "text/x-python",
   "name": "python",
   "nbconvert_exporter": "python",
   "pygments_lexer": "ipython3",
   "version": "3.8.1"
  }
 },
 "nbformat": 4,
 "nbformat_minor": 4
}
