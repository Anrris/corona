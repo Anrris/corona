{
 "cells": [
  {
   "cell_type": "code",
   "execution_count": 47,
   "metadata": {},
   "outputs": [],
   "source": [
    "import importlib\n",
    "import corona_plots\n",
    "importlib.reload(corona_plots)\n",
    "\n",
    "corona_plots.CoronaPlots.plot_global_cases(auto_open=True)\n",
    "corona_plots.CoronaPlots.plot_usa_cases(auto_open=True)\n",
    "corona_plots.CoronaPlots.plot_usa_pos_neg_tracking()\n",
    "pass"
   ]
  },
  {
   "cell_type": "code",
   "execution_count": null,
   "metadata": {},
   "outputs": [],
   "source": []
  }
 ],
 "metadata": {
  "kernelspec": {
   "display_name": "'Python Interactive'",
   "language": "python",
   "name": "61ed86a9-55bc-4c00-9e56-7f182ce6dc3b"
  },
  "language_info": {
   "codemirror_mode": {
    "name": "ipython",
    "version": 3
   },
   "file_extension": ".py",
   "mimetype": "text/x-python",
   "name": "python",
   "nbconvert_exporter": "python",
   "pygments_lexer": "ipython3",
   "version": "3.7.5"
  }
 },
 "nbformat": 4,
 "nbformat_minor": 4
}
